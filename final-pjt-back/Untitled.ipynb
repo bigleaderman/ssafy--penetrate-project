{
 "cells": [
  {
   "cell_type": "code",
   "execution_count": 3,
   "id": "a5958bc5",
   "metadata": {},
   "outputs": [
    {
     "name": "stdout",
     "output_type": "stream",
     "text": [
      "(959, 14)\n"
     ]
    },
    {
     "data": {
      "text/html": [
       "<div>\n",
       "<style scoped>\n",
       "    .dataframe tbody tr th:only-of-type {\n",
       "        vertical-align: middle;\n",
       "    }\n",
       "\n",
       "    .dataframe tbody tr th {\n",
       "        vertical-align: top;\n",
       "    }\n",
       "\n",
       "    .dataframe thead th {\n",
       "        text-align: right;\n",
       "    }\n",
       "</style>\n",
       "<table border=\"1\" class=\"dataframe\">\n",
       "  <thead>\n",
       "    <tr style=\"text-align: right;\">\n",
       "      <th></th>\n",
       "      <th>pk</th>\n",
       "      <th>adult</th>\n",
       "      <th>backdrop_path</th>\n",
       "      <th>original_language</th>\n",
       "      <th>overview</th>\n",
       "      <th>popularity</th>\n",
       "      <th>poster_path</th>\n",
       "      <th>released_date</th>\n",
       "      <th>title</th>\n",
       "      <th>vote_average</th>\n",
       "      <th>genres</th>\n",
       "      <th>is_active</th>\n",
       "      <th>director</th>\n",
       "      <th>actors</th>\n",
       "    </tr>\n",
       "  </thead>\n",
       "  <tbody>\n",
       "    <tr>\n",
       "      <th>0</th>\n",
       "      <td>752623</td>\n",
       "      <td>False</td>\n",
       "      <td>/A3bsT0m1um6tvcmlIGxBwx9eAxn.jpg</td>\n",
       "      <td>en</td>\n",
       "      <td>전설의 트레저를 차지하기 위해 재벌 페어팩스(다니엘 래드클리프)는  유일한 단서를 ...</td>\n",
       "      <td>11308.998</td>\n",
       "      <td>/8kZapNBZYGJu7AUbJVBDMmQgO1D.jpg</td>\n",
       "      <td>2022-03-24</td>\n",
       "      <td>로스트 시티</td>\n",
       "      <td>6.8</td>\n",
       "      <td>['액션', '모험', '코메디', '로멘스']</td>\n",
       "      <td>True</td>\n",
       "      <td>Marlene Stewart</td>\n",
       "      <td>['Sandra Bullock', 'Channing Tatum', 'Daniel R...</td>\n",
       "    </tr>\n",
       "    <tr>\n",
       "      <th>1</th>\n",
       "      <td>675353</td>\n",
       "      <td>False</td>\n",
       "      <td>/egoyMDLqCxzjnSrWOz50uLlJWmD.jpg</td>\n",
       "      <td>en</td>\n",
       "      <td>강력한 파워의 ‘너클즈’와 함께 돌아온 천재 과학자 ‘닥터 로보트닉’에 맞서 지구를...</td>\n",
       "      <td>8887.435</td>\n",
       "      <td>/8dzKn3RtPWUJRG9ymSpi423eMNV.jpg</td>\n",
       "      <td>2022-03-30</td>\n",
       "      <td>수퍼 소닉 2</td>\n",
       "      <td>7.7</td>\n",
       "      <td>['액션', '공상과학', '코메디', '가족', '모험']</td>\n",
       "      <td>True</td>\n",
       "      <td>Jim May</td>\n",
       "      <td>['Ben Schwartz', 'Idris Elba', \"Colleen O'Shau...</td>\n",
       "    </tr>\n",
       "  </tbody>\n",
       "</table>\n",
       "</div>"
      ],
      "text/plain": [
       "       pk  adult                     backdrop_path original_language  \\\n",
       "0  752623  False  /A3bsT0m1um6tvcmlIGxBwx9eAxn.jpg                en   \n",
       "1  675353  False  /egoyMDLqCxzjnSrWOz50uLlJWmD.jpg                en   \n",
       "\n",
       "                                            overview  popularity  \\\n",
       "0  전설의 트레저를 차지하기 위해 재벌 페어팩스(다니엘 래드클리프)는  유일한 단서를 ...   11308.998   \n",
       "1  강력한 파워의 ‘너클즈’와 함께 돌아온 천재 과학자 ‘닥터 로보트닉’에 맞서 지구를...    8887.435   \n",
       "\n",
       "                        poster_path released_date    title  vote_average  \\\n",
       "0  /8kZapNBZYGJu7AUbJVBDMmQgO1D.jpg    2022-03-24   로스트 시티           6.8   \n",
       "1  /8dzKn3RtPWUJRG9ymSpi423eMNV.jpg    2022-03-30  수퍼 소닉 2           7.7   \n",
       "\n",
       "                              genres  is_active         director  \\\n",
       "0         ['액션', '모험', '코메디', '로멘스']       True  Marlene Stewart   \n",
       "1  ['액션', '공상과학', '코메디', '가족', '모험']       True          Jim May   \n",
       "\n",
       "                                              actors  \n",
       "0  ['Sandra Bullock', 'Channing Tatum', 'Daniel R...  \n",
       "1  ['Ben Schwartz', 'Idris Elba', \"Colleen O'Shau...  "
      ]
     },
     "execution_count": 3,
     "metadata": {},
     "output_type": "execute_result"
    }
   ],
   "source": [
    "import pandas as pd\n",
    "import numpy as np\n",
    "import warnings; warnings.filterwarnings('ignore')\n",
    "import json\n",
    "\n",
    "\n",
    "movies = pd.read_csv('test4.csv')\n",
    "print(movies.shape)\n",
    "movies.head(2)"
   ]
  }
 ],
 "metadata": {
  "kernelspec": {
   "display_name": "Python 3 (ipykernel)",
   "language": "python",
   "name": "python3"
  },
  "language_info": {
   "codemirror_mode": {
    "name": "ipython",
    "version": 3
   },
   "file_extension": ".py",
   "mimetype": "text/x-python",
   "name": "python",
   "nbconvert_exporter": "python",
   "pygments_lexer": "ipython3",
   "version": "3.9.10"
  }
 },
 "nbformat": 4,
 "nbformat_minor": 5
}
